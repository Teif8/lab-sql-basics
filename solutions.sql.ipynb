{
 "cells": [
  {
   "cell_type": "code",
   "execution_count": null,
   "id": "f56d8de8-49d1-4c71-945d-c59688402969",
   "metadata": {},
   "outputs": [],
   "source": [
    "# SQLite Lab Solutions"
   ]
  },
  {
   "cell_type": "code",
   "execution_count": 2,
   "id": "2ba3ac19-9535-4eaf-a397-71a44df43668",
   "metadata": {},
   "outputs": [
    {
     "name": "stdout",
     "output_type": "stream",
     "text": [
      "2.6.0\n"
     ]
    },
    {
     "name": "stderr",
     "output_type": "stream",
     "text": [
      "/var/folders/8p/lhfbj_0n501d3lhdqz4xc0dh0000gn/T/ipykernel_50872/4112040650.py:2: DeprecationWarning: version is deprecated and will be removed in Python 3.14\n",
      "  print(sqlite3.version)\n"
     ]
    }
   ],
   "source": [
    "import sqlite3\n",
    "print(sqlite3.version)"
   ]
  },
  {
   "cell_type": "code",
   "execution_count": 4,
   "id": "615b8fa4-56de-4b4e-88f3-8c4e98d0fe7e",
   "metadata": {},
   "outputs": [
    {
     "name": "stdout",
     "output_type": "stream",
     "text": [
      "Tables of dataset: [('account',), ('card',), ('client',), ('disp',), ('district',), ('loan',), ('order',), ('trans',)]\n"
     ]
    }
   ],
   "source": [
    "import sqlite3\n",
    "\n",
    "conn = sqlite3.connect(\"lab1_bank.sqlite\")\n",
    "cursor = conn.cursor()\n",
    "\n",
    "\n",
    "cursor.execute(\"SELECT name FROM sqlite_master WHERE type='table';\")\n",
    "tables = cursor.fetchall()\n",
    "\n",
    "print(\"Tables of dataset:\", tables)\n",
    "\n",
    "\n",
    "conn.close()"
   ]
  },
  {
   "cell_type": "code",
   "execution_count": 32,
   "id": "8993329a-f32f-48b5-acf6-fa84b26cee61",
   "metadata": {},
   "outputs": [
    {
     "name": "stdout",
     "output_type": "stream",
     "text": [
      "(2,)\n",
      "(3,)\n",
      "(22,)\n",
      "(23,)\n",
      "(28,)\n"
     ]
    }
   ],
   "source": [
    "# Query 1 / Get the id values of the first 5 clients from district_id with a value equals to 1.\n",
    "import sqlite3\n",
    "\n",
    "conn = sqlite3.connect(\"lab1_bank.sqlite\")\n",
    "cursor = conn.cursor()\n",
    "\n",
    "cursor.execute(\"SELECT client_id FROM client WHERE district_id = 1 ORDER BY client_id ASC LIMIT 5\")\n",
    "\n",
    "rows = cursor.fetchall()\n",
    "\n",
    "\n",
    "for row in rows:\n",
    "    print(row)"
   ]
  },
  {
   "cell_type": "code",
   "execution_count": 34,
   "id": "5de9d7ae-6833-498b-8761-44181d61e9d8",
   "metadata": {},
   "outputs": [
    {
     "name": "stdout",
     "output_type": "stream",
     "text": [
      "(13576,)\n"
     ]
    }
   ],
   "source": [
    "# Query 2 / In the client table, get an id value of the last client where the district_id equals to 72.\n",
    "cursor.execute(\"SELECT client_id FROM client WHERE district_id = 72 ORDER BY client_id DESC LIMIT 1\")\n",
    "\n",
    "rows = cursor.fetchall()\n",
    "\n",
    "\n",
    "for row in rows:\n",
    "    print(row)\n"
   ]
  },
  {
   "cell_type": "code",
   "execution_count": 36,
   "id": "0b387d88-6042-4ecd-ac2e-3c5fa02cf5f7",
   "metadata": {},
   "outputs": [
    {
     "name": "stdout",
     "output_type": "stream",
     "text": [
      "(4980,)\n",
      "(5148,)\n",
      "(7656,)\n"
     ]
    }
   ],
   "source": [
    "# Query 3 / Get the 3 lowest amounts in the loan table.\n",
    "cursor.execute(\"SELECT amount FROM loan ORDER BY amount ASC LIMIT 3\")\n",
    "\n",
    "rows = cursor.fetchall()\n",
    "\n",
    "\n",
    "for row in rows:\n",
    "    print(row)"
   ]
  },
  {
   "cell_type": "code",
   "execution_count": 42,
   "id": "9dbd38df-714d-4aff-9954-5c45c2be554e",
   "metadata": {},
   "outputs": [
    {
     "name": "stdout",
     "output_type": "stream",
     "text": [
      "('A',)\n",
      "('B',)\n",
      "('C',)\n",
      "('D',)\n"
     ]
    }
   ],
   "source": [
    "# Query 4 / What are the possible values for status, ordered alphabetically in ascending order in the loan table?\n",
    "cursor.execute(\"SELECT DISTINCT status FROM loan ORDER BY status ASC\")\n",
    "\n",
    "rows = cursor.fetchall()\n",
    "\n",
    "for row in rows:\n",
    "    print(row)"
   ]
  },
  {
   "cell_type": "code",
   "execution_count": 44,
   "id": "e398a432-85fb-4d49-8997-611f257bfb5d",
   "metadata": {},
   "outputs": [
    {
     "name": "stdout",
     "output_type": "stream",
     "text": [
      "(6415,)\n"
     ]
    }
   ],
   "source": [
    "# Query 5 / What is the loan_id of the highest payment received in the loan table?\n",
    "cursor.execute(\"SELECT loan_id FROM loan ORDER BY payments DESC LIMIT 1\")\n",
    "\n",
    "rows = cursor.fetchall()\n",
    "\n",
    "for row in rows:\n",
    "    print(row)"
   ]
  },
  {
   "cell_type": "code",
   "execution_count": 46,
   "id": "2855596c-f260-4375-b2bc-acabd0c9e8c8",
   "metadata": {},
   "outputs": [
    {
     "name": "stdout",
     "output_type": "stream",
     "text": [
      "(2, 80952)\n",
      "(19, 30276)\n",
      "(25, 30276)\n",
      "(37, 318480)\n",
      "(38, 110736)\n"
     ]
    }
   ],
   "source": [
    "# Query 6 / What is the loan amount of the lowest 5 account_ids in the loan table? Show the account_id and the corresponding amount\n",
    "cursor.execute(\"SELECT account_id, amount FROM loan ORDER BY account_id ASC LIMIT 5\")\n",
    "\n",
    "rows = cursor.fetchall()\n",
    "\n",
    "for row in rows:\n",
    "    print(row)"
   ]
  },
  {
   "cell_type": "code",
   "execution_count": 48,
   "id": "92142646-9ace-496f-bf0f-3e490d51d99d",
   "metadata": {},
   "outputs": [
    {
     "name": "stdout",
     "output_type": "stream",
     "text": [
      "(10954,)\n",
      "(938,)\n",
      "(10711,)\n",
      "(1766,)\n",
      "(10799,)\n"
     ]
    }
   ],
   "source": [
    "# Query 7 / What are the account_ids with the lowest loan amount that have a loan duration of 60 in the loan table?\n",
    "cursor.execute(\"SELECT account_id FROM loan WHERE duration = 60 ORDER BY amount ASC LIMIT 5\")\n",
    "\n",
    "rows = cursor.fetchall()\n",
    "\n",
    "for row in rows:\n",
    "    print(row)"
   ]
  },
  {
   "cell_type": "code",
   "execution_count": 60,
   "id": "30e7af3f-8a71-4e5d-827d-033169b2a120",
   "metadata": {},
   "outputs": [
    {
     "name": "stdout",
     "output_type": "stream",
     "text": [
      "('LEASING',)\n",
      "('POJISTNE',)\n",
      "('SIPO',)\n",
      "('UVER',)\n"
     ]
    }
   ],
   "source": [
    "# Query 8 / What are the unique values of k_symbol in the order table?\n",
    "cursor.execute(\"SELECT DISTINCT TRIM(k_symbol) FROM `order` WHERE k_symbol IS NOT NULL AND TRIM(k_symbol) != '' ORDER BY k_symbol ASC;\",)\n",
    "\n",
    "rows = cursor.fetchall()\n",
    "\n",
    "for row in rows:\n",
    "    print(row)"
   ]
  },
  {
   "cell_type": "code",
   "execution_count": 62,
   "id": "aad2a2c4-15e5-4e37-a307-7d54733b24f3",
   "metadata": {},
   "outputs": [
    {
     "name": "stdout",
     "output_type": "stream",
     "text": [
      "(29445,)\n",
      "(29446,)\n",
      "(29447,)\n"
     ]
    }
   ],
   "source": [
    "# Query 9 / In the order table, what are the order_ids of the client with the account_id 34?\n",
    "cursor.execute(\"SELECT order_id FROM `order` WHERE account_id = 34;\")\n",
    "\n",
    "rows = cursor.fetchall()\n",
    "\n",
    "for row in rows:\n",
    "    print(row)"
   ]
  },
  {
   "cell_type": "code",
   "execution_count": 64,
   "id": "5b729ec0-95da-455d-8ed4-761bd4455cca",
   "metadata": {},
   "outputs": [
    {
     "name": "stdout",
     "output_type": "stream",
     "text": [
      "(88,)\n",
      "(90,)\n",
      "(96,)\n",
      "(97,)\n"
     ]
    }
   ],
   "source": [
    "# Query 10 / In the order table, which account_ids were responsible for orders between order_id 29540 and order_id 29560 (inclusive)?\n",
    "cursor.execute(\"SELECT DISTINCT account_id FROM `order` WHERE order_id BETWEEN 29540 AND 29560\")\n",
    "\n",
    "rows = cursor.fetchall()\n",
    "\n",
    "for row in rows:\n",
    "    print(row)"
   ]
  },
  {
   "cell_type": "code",
   "execution_count": 70,
   "id": "59eb71ae-ef1a-454d-9bda-771b3a946463",
   "metadata": {},
   "outputs": [
    {
     "name": "stdout",
     "output_type": "stream",
     "text": [
      "(5123,)\n"
     ]
    }
   ],
   "source": [
    "# Query 11 / In the order table, what are the individual amounts that were sent to (account_to) id 30067122?\n",
    "cursor.execute(\"SELECT DISTINCT CAST(amount AS INTEGER) FROM `order` WHERE account_to = 30067122;\")\n",
    "\n",
    "\n",
    "rows = cursor.fetchall()\n",
    "\n",
    "for row in rows:\n",
    "    print(row)"
   ]
  },
  {
   "cell_type": "code",
   "execution_count": 74,
   "id": "fc813e8c-d04f-4120-86fd-ebaa4d0664f1",
   "metadata": {},
   "outputs": [
    {
     "name": "stdout",
     "output_type": "stream",
     "text": [
      "(3556468, 981231, 'PRIJEM', 78.6)\n",
      "(233254, 981216, 'VYDAJ', 600.0)\n",
      "(233104, 981212, 'VYDAJ', 1212.0)\n",
      "(233248, 981211, 'VYDAJ', 851.0)\n",
      "(233176, 981207, 'VYDAJ', 204.0)\n",
      "(3556467, 981130, 'PRIJEM', 75.1)\n",
      "(233395, 981130, 'VYDAJ', 14.6)\n",
      "(233103, 981112, 'VYDAJ', 1212.0)\n",
      "(233247, 981111, 'VYDAJ', 851.0)\n",
      "(233175, 981107, 'VYDAJ', 204.0)\n"
     ]
    }
   ],
   "source": [
    "# Query 12 / In the trans table, show the trans_id, date, type and amount of the 10 first transactions from account_id 793 in chronological order, from newest to oldest.\n",
    "cursor.execute(\"SELECT trans_id, date, type, amount FROM trans WHERE account_id = 793 ORDER BY date DESC LIMIT 10\")\n",
    "\n",
    "rows = cursor.fetchall()\n",
    "\n",
    "for row in rows:\n",
    "    print(row)"
   ]
  },
  {
   "cell_type": "code",
   "execution_count": 76,
   "id": "35d42906-c120-4b15-838b-f0e60f02d167",
   "metadata": {},
   "outputs": [
    {
     "name": "stdout",
     "output_type": "stream",
     "text": [
      "(1, 663)\n",
      "(2, 46)\n",
      "(3, 63)\n",
      "(4, 50)\n",
      "(5, 71)\n",
      "(6, 53)\n",
      "(7, 45)\n",
      "(8, 69)\n",
      "(9, 60)\n"
     ]
    }
   ],
   "source": [
    "# Query 13 / In the client table, of all districts with a district_id lower than 10, how many clients are from each district_id? Show the results sorted by the district_id in ascending order.\n",
    "cursor.execute(\"SELECT district_id, COUNT(*) AS client_count FROM client WHERE district_id < 10 GROUP BY district_id ORDER BY district_id ASC\")\n",
    "\n",
    "rows = cursor.fetchall()\n",
    "\n",
    "for row in rows:\n",
    "    print(row)"
   ]
  },
  {
   "cell_type": "code",
   "execution_count": 78,
   "id": "9f9b3c9a-ad11-4a64-9774-d341f1b45871",
   "metadata": {},
   "outputs": [
    {
     "name": "stdout",
     "output_type": "stream",
     "text": [
      "('classic', 659)\n",
      "('junior', 145)\n",
      "('gold', 88)\n"
     ]
    }
   ],
   "source": [
    "# Query 14 / In the card table, how many cards exist for each type? Rank the result starting with the most frequent type.\n",
    "cursor.execute(\"SELECT type, COUNT(*) AS card_count FROM card GROUP BY type ORDER BY card_count DESC\")\n",
    "\n",
    "rows = cursor.fetchall()\n",
    "\n",
    "for row in rows:\n",
    "    print(row)\n"
   ]
  },
  {
   "cell_type": "code",
   "execution_count": 80,
   "id": "962a4b21-dc09-4ae7-af0e-afb7743f744e",
   "metadata": {},
   "outputs": [
    {
     "name": "stdout",
     "output_type": "stream",
     "text": [
      "(7542, 590820)\n",
      "(8926, 566640)\n",
      "(2335, 541200)\n",
      "(817, 538500)\n",
      "(2936, 504000)\n",
      "(7049, 495180)\n",
      "(10451, 482940)\n",
      "(6950, 475680)\n",
      "(7966, 473280)\n",
      "(339, 468060)\n"
     ]
    }
   ],
   "source": [
    "# Query 15 / Using the loan table, print the top 10 account_ids based on the sum of all of their loan amounts.\n",
    "cursor.execute(\"SELECT account_id, SUM(amount) AS total_loan FROM loan GROUP BY account_id ORDER BY total_loan DESC LIMIT 10\")\n",
    "\n",
    "rows = cursor.fetchall()\n",
    "\n",
    "for row in rows:\n",
    "    print(row)"
   ]
  },
  {
   "cell_type": "code",
   "execution_count": 88,
   "id": "b4e84989-6936-4cde-90a3-59ed28fc66b5",
   "metadata": {},
   "outputs": [
    {
     "name": "stdout",
     "output_type": "stream",
     "text": [
      "(930906, 1)\n",
      "(930803, 1)\n",
      "(930728, 1)\n",
      "(930711, 1)\n",
      "(930705, 1)\n"
     ]
    }
   ],
   "source": [
    "# Query 16 / In the loan table, retrieve the number of loans issued for each day, before (excl) 930907, ordered by date in descending order.\n",
    "cursor.execute(\"SELECT date, COUNT(*) AS loan_count FROM loan WHERE date < 930907 GROUP BY date ORDER BY date DESC;\")\n",
    "\n",
    "rows = cursor.fetchall()\n",
    "\n",
    "for row in rows:\n",
    "    print(row)"
   ]
  },
  {
   "cell_type": "code",
   "execution_count": 90,
   "id": "30a3e52d-3a2c-458e-823d-fcde802b515d",
   "metadata": {},
   "outputs": [
    {
     "name": "stdout",
     "output_type": "stream",
     "text": [
      "(971206, 24, 1)\n",
      "(971206, 36, 1)\n",
      "(971208, 12, 3)\n",
      "(971209, 12, 1)\n",
      "(971209, 24, 1)\n",
      "(971210, 12, 1)\n",
      "(971211, 24, 1)\n",
      "(971211, 48, 1)\n",
      "(971213, 24, 1)\n",
      "(971220, 36, 1)\n",
      "(971221, 36, 1)\n",
      "(971224, 60, 1)\n",
      "(971225, 24, 1)\n",
      "(971225, 60, 1)\n"
     ]
    }
   ],
   "source": [
    "# Query 17 / In the loan table, for each day in December 1997, count the number of loans issued for each unique loan duration, ordered by date and duration, both in ascending order. You can ignore days without any loans in your output.\n",
    "cursor.execute(\"SELECT date, duration, COUNT(*) AS loan_count FROM loan WHERE date BETWEEN 971201 AND 971225 GROUP BY date, duration ORDER BY date ASC, duration ASC\")\n",
    "rows = cursor.fetchall()\n",
    "for row in rows:\n",
    "    print(row)"
   ]
  },
  {
   "cell_type": "code",
   "execution_count": 92,
   "id": "2e51f3d4-c949-4525-8743-aba62d23df4e",
   "metadata": {},
   "outputs": [
    {
     "name": "stdout",
     "output_type": "stream",
     "text": [
      "(396, 'PRIJEM', 1028138.7)\n",
      "(396, 'VYDAJ', 1485814.4)\n"
     ]
    }
   ],
   "source": [
    "# Query 18 / In the trans table, for account_id 396, sum the amount of transactions for each type (VYDAJ = Outgoing, PRIJEM = Incoming). Your output should have the account_id, the type and the sum of amount, named as total_amount. Sort alphabetically by type.\n",
    "cursor.execute(\"SELECT account_id, type, SUM(amount) AS total_amount FROM trans WHERE account_id = 396 GROUP BY type ORDER BY type ASC\")\n",
    "\n",
    "rows = cursor.fetchall()\n",
    "\n",
    "for row in rows:\n",
    "    print(row)"
   ]
  },
  {
   "cell_type": "code",
   "execution_count": 94,
   "id": "6e233574-8e2f-4971-8bf5-aa9200619c23",
   "metadata": {},
   "outputs": [],
   "source": [
    "conn.close()"
   ]
  },
  {
   "cell_type": "code",
   "execution_count": null,
   "id": "9b641462-8e95-44d8-8085-7742d97c06f8",
   "metadata": {},
   "outputs": [],
   "source": []
  }
 ],
 "metadata": {
  "kernelspec": {
   "display_name": "Python (myenv)",
   "language": "python",
   "name": "myenv"
  },
  "language_info": {
   "codemirror_mode": {
    "name": "ipython",
    "version": 3
   },
   "file_extension": ".py",
   "mimetype": "text/x-python",
   "name": "python",
   "nbconvert_exporter": "python",
   "pygments_lexer": "ipython3",
   "version": "3.12.7"
  }
 },
 "nbformat": 4,
 "nbformat_minor": 5
}
